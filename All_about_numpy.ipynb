{
 "cells": [
  {
   "cell_type": "code",
   "execution_count": 1,
   "id": "2754f18e",
   "metadata": {},
   "outputs": [],
   "source": [
    "#single line comment\n",
    "'''multi-line\n",
    "comment '''\n",
    "import numpy as np"
   ]
  },
  {
   "cell_type": "markdown",
   "id": "3da760f1",
   "metadata": {},
   "source": [
    "## Basic of numpy\n"
   ]
  },
  {
   "cell_type": "code",
   "execution_count": 2,
   "id": "7ad1b099",
   "metadata": {},
   "outputs": [
    {
     "name": "stdout",
     "output_type": "stream",
     "text": [
      "[5 6 7]\n"
     ]
    }
   ],
   "source": [
    "a=np.array([5,6,7])#one dimensional array\n",
    "print(a)"
   ]
  },
  {
   "cell_type": "code",
   "execution_count": 3,
   "id": "8b3bdf30",
   "metadata": {},
   "outputs": [
    {
     "name": "stdout",
     "output_type": "stream",
     "text": [
      "2X3 matrix \n",
      " [[1. 2. 3.]\n",
      " [4. 5. 6.]]\n",
      "dimension of the array 2\n"
     ]
    }
   ],
   "source": [
    "#dimension\n",
    "b=np.array([[1,2,3],[4,5,6]],dtype=float)\n",
    "print(\"2X3 matrix \\n\",b)\n",
    "print(\"dimension of the array\",b.ndim)#ndim fuction is used to  print dimenson of the array."
   ]
  },
  {
   "cell_type": "code",
   "execution_count": 4,
   "id": "d5f70c01",
   "metadata": {},
   "outputs": [
    {
     "name": "stdout",
     "output_type": "stream",
     "text": [
      "(3,)\n",
      "(2, 3)\n"
     ]
    }
   ],
   "source": [
    "#shape\n",
    "print(a.shape)\n",
    "print(b.shape)"
   ]
  },
  {
   "cell_type": "code",
   "execution_count": 5,
   "id": "60d92d17",
   "metadata": {},
   "outputs": [
    {
     "name": "stdout",
     "output_type": "stream",
     "text": [
      "int32\n",
      "float64\n"
     ]
    }
   ],
   "source": [
    "#data type\n",
    "print(a.dtype)\n",
    "print(b.dtype)"
   ]
  },
  {
   "cell_type": "code",
   "execution_count": 6,
   "id": "d3e1f8de",
   "metadata": {},
   "outputs": [
    {
     "name": "stdout",
     "output_type": "stream",
     "text": [
      "4\n",
      "8\n"
     ]
    }
   ],
   "source": [
    "#size\n",
    "print(a.itemsize)\n",
    "print(b.itemsize)"
   ]
  },
  {
   "cell_type": "code",
   "execution_count": 7,
   "id": "d69532ee",
   "metadata": {},
   "outputs": [
    {
     "data": {
      "text/plain": [
       "12"
      ]
     },
     "execution_count": 7,
     "metadata": {},
     "output_type": "execute_result"
    }
   ],
   "source": [
    "#storage occupied\n",
    "a.nbytes\n"
   ]
  },
  {
   "cell_type": "markdown",
   "id": "7d152141",
   "metadata": {},
   "source": [
    "## accessing/changing specific elements,rows,columns etc."
   ]
  },
  {
   "cell_type": "code",
   "execution_count": 8,
   "id": "33bebfa6",
   "metadata": {},
   "outputs": [
    {
     "data": {
      "text/plain": [
       "array([[ 1,  2,  3,  4,  5],\n",
       "       [ 6,  7,  8,  9, 10]])"
      ]
     },
     "execution_count": 8,
     "metadata": {},
     "output_type": "execute_result"
    }
   ],
   "source": [
    "a=np.array([[1,2,3,4,5],[6,7,8,9,10]])\n",
    "a"
   ]
  },
  {
   "cell_type": "code",
   "execution_count": 9,
   "id": "762d15a5",
   "metadata": {},
   "outputs": [],
   "source": [
    "# a[row index,columns index] indexing start from zero"
   ]
  },
  {
   "cell_type": "code",
   "execution_count": 10,
   "id": "e946a561",
   "metadata": {},
   "outputs": [
    {
     "data": {
      "text/plain": [
       "2"
      ]
     },
     "execution_count": 10,
     "metadata": {},
     "output_type": "execute_result"
    }
   ],
   "source": [
    "#get specific elements\n",
    "a[0,1]#for getting 2 as output"
   ]
  },
  {
   "cell_type": "code",
   "execution_count": 11,
   "id": "884cbdce",
   "metadata": {},
   "outputs": [
    {
     "data": {
      "text/plain": [
       "10"
      ]
     },
     "execution_count": 11,
     "metadata": {},
     "output_type": "execute_result"
    }
   ],
   "source": [
    "#negative indexing\n",
    "a[1,-1]#negative indexing start with 1 "
   ]
  },
  {
   "cell_type": "code",
   "execution_count": 12,
   "id": "0970eac3",
   "metadata": {},
   "outputs": [
    {
     "name": "stdout",
     "output_type": "stream",
     "text": [
      "[ 6  7  8  9 10]\n",
      "[ 6  7  8  9 10]\n"
     ]
    }
   ],
   "source": [
    "#get row\n",
    "print(a[1])\n",
    "print(a[1,:])#: is use to select every element"
   ]
  },
  {
   "cell_type": "code",
   "execution_count": 13,
   "id": "93c5cd62",
   "metadata": {},
   "outputs": [
    {
     "name": "stdout",
     "output_type": "stream",
     "text": [
      "[4 9]\n"
     ]
    }
   ],
   "source": [
    "#get columns\n",
    "print(a[:,3])"
   ]
  },
  {
   "cell_type": "code",
   "execution_count": 14,
   "id": "3d2ba3e3",
   "metadata": {},
   "outputs": [
    {
     "name": "stdout",
     "output_type": "stream",
     "text": [
      "[[ 1 12  3  4  5]\n",
      " [ 6  7  8  9 10]]\n"
     ]
    }
   ],
   "source": [
    "#change the elements \n",
    "a[0,1]=12\n",
    "print(a)"
   ]
  },
  {
   "cell_type": "code",
   "execution_count": 15,
   "id": "8154af66",
   "metadata": {},
   "outputs": [
    {
     "data": {
      "text/plain": [
       "array([[ 1, 12, 11,  4,  5],\n",
       "       [ 6,  7, 11,  9, 10]])"
      ]
     },
     "execution_count": 15,
     "metadata": {},
     "output_type": "execute_result"
    }
   ],
   "source": [
    "# to change column element\n",
    "a[:,2]=11 #it will change the 3rd element of both the rows\n",
    "a"
   ]
  },
  {
   "cell_type": "code",
   "execution_count": 16,
   "id": "2d2bd530",
   "metadata": {},
   "outputs": [
    {
     "data": {
      "text/plain": [
       "array([[ 1,  2,  3,  4,  5],\n",
       "       [ 6,  7, 11,  9, 10]])"
      ]
     },
     "execution_count": 16,
     "metadata": {},
     "output_type": "execute_result"
    }
   ],
   "source": [
    "#to change the row element\n",
    "a[0,:]=[1,2,3,4,5]#it will change all the element of first row\n",
    "a"
   ]
  },
  {
   "cell_type": "markdown",
   "id": "f13eed37",
   "metadata": {},
   "source": [
    "## intializing different arrays"
   ]
  },
  {
   "cell_type": "code",
   "execution_count": 17,
   "id": "2ee496a3",
   "metadata": {},
   "outputs": [
    {
     "name": "stdout",
     "output_type": "stream",
     "text": [
      "[0. 0. 0. 0.]\n",
      "float64\n"
     ]
    }
   ],
   "source": [
    "#all zeros matrics\n",
    "a=np.zeros(4)#it creates array with with all the elements as zero and its data type is float\n",
    "print(a)\n",
    "print(a.dtype)"
   ]
  },
  {
   "cell_type": "code",
   "execution_count": 18,
   "id": "e302fe3e",
   "metadata": {},
   "outputs": [
    {
     "data": {
      "text/plain": [
       "array([[0., 0., 0.],\n",
       "       [0., 0., 0.],\n",
       "       [0., 0., 0.]])"
      ]
     },
     "execution_count": 18,
     "metadata": {},
     "output_type": "execute_result"
    }
   ],
   "source": [
    "#np.zeros(shape,dtype=\"values\",order=\"c or r\") c is for columns and r is for rows\n",
    "np.zeros((3,3))"
   ]
  },
  {
   "cell_type": "code",
   "execution_count": 19,
   "id": "d9dea72f",
   "metadata": {},
   "outputs": [
    {
     "data": {
      "text/plain": [
       "array([[[0., 0., 0.],\n",
       "        [0., 0., 0.],\n",
       "        [0., 0., 0.],\n",
       "        [0., 0., 0.],\n",
       "        [0., 0., 0.]],\n",
       "\n",
       "       [[0., 0., 0.],\n",
       "        [0., 0., 0.],\n",
       "        [0., 0., 0.],\n",
       "        [0., 0., 0.],\n",
       "        [0., 0., 0.]],\n",
       "\n",
       "       [[0., 0., 0.],\n",
       "        [0., 0., 0.],\n",
       "        [0., 0., 0.],\n",
       "        [0., 0., 0.],\n",
       "        [0., 0., 0.]],\n",
       "\n",
       "       [[0., 0., 0.],\n",
       "        [0., 0., 0.],\n",
       "        [0., 0., 0.],\n",
       "        [0., 0., 0.],\n",
       "        [0., 0., 0.]]])"
      ]
     },
     "execution_count": 19,
     "metadata": {},
     "output_type": "execute_result"
    }
   ],
   "source": [
    "np.zeros((4,5,3))"
   ]
  },
  {
   "cell_type": "code",
   "execution_count": 20,
   "id": "6912d60b",
   "metadata": {},
   "outputs": [
    {
     "data": {
      "text/plain": [
       "array([1., 1., 1., 1.])"
      ]
     },
     "execution_count": 20,
     "metadata": {},
     "output_type": "execute_result"
    }
   ],
   "source": [
    "#all ones matrix\n",
    "np.ones(4)#it also creates data type of float"
   ]
  },
  {
   "cell_type": "code",
   "execution_count": 21,
   "id": "901a3945",
   "metadata": {},
   "outputs": [
    {
     "data": {
      "text/plain": [
       "array([[1., 1., 1.],\n",
       "       [1., 1., 1.],\n",
       "       [1., 1., 1.],\n",
       "       [1., 1., 1.]])"
      ]
     },
     "execution_count": 21,
     "metadata": {},
     "output_type": "execute_result"
    }
   ],
   "source": [
    "#np.onez(shape,dtype=\"values\",order=\"c or r\") c is for columns and r is for rows\n",
    "np.ones((4,3))"
   ]
  },
  {
   "cell_type": "code",
   "execution_count": 22,
   "id": "b505d84d",
   "metadata": {},
   "outputs": [
    {
     "data": {
      "text/plain": [
       "array([[4, 4, 4, 4],\n",
       "       [4, 4, 4, 4],\n",
       "       [4, 4, 4, 4]])"
      ]
     },
     "execution_count": 22,
     "metadata": {},
     "output_type": "execute_result"
    }
   ],
   "source": [
    "# creating a matrix with same elements\n",
    "#np.full(shape,element value,dtype=\"value\")\n",
    "np.full((3,4),4)"
   ]
  },
  {
   "cell_type": "code",
   "execution_count": 23,
   "id": "6aea2832",
   "metadata": {},
   "outputs": [
    {
     "data": {
      "text/plain": [
       "array([4., 4., 4., 4.])"
      ]
     },
     "execution_count": 23,
     "metadata": {},
     "output_type": "execute_result"
    }
   ],
   "source": [
    "np.full_like(a,4)#full_like copies the dimension of the matrix |"
   ]
  },
  {
   "cell_type": "code",
   "execution_count": 24,
   "id": "1642387d",
   "metadata": {},
   "outputs": [
    {
     "data": {
      "text/plain": [
       "array([[0.26409059, 0.44347594]])"
      ]
     },
     "execution_count": 24,
     "metadata": {},
     "output_type": "execute_result"
    }
   ],
   "source": [
    "#random no matrix\n",
    "#np.random.rand(shape)\n",
    "np.random.rand(1,2)"
   ]
  },
  {
   "cell_type": "code",
   "execution_count": 25,
   "id": "fe92d98d",
   "metadata": {},
   "outputs": [
    {
     "data": {
      "text/plain": [
       "array([0.6587902 , 0.60568608, 0.02891565, 0.56013326])"
      ]
     },
     "execution_count": 25,
     "metadata": {},
     "output_type": "execute_result"
    }
   ],
   "source": [
    "np.random.random_sample(a.shape)#copies the dimension of matrix and fill it with random no"
   ]
  },
  {
   "cell_type": "code",
   "execution_count": 26,
   "id": "e75a5cfc",
   "metadata": {},
   "outputs": [
    {
     "data": {
      "text/plain": [
       "array([[1., 0., 0.],\n",
       "       [0., 1., 0.],\n",
       "       [0., 0., 1.]])"
      ]
     },
     "execution_count": 26,
     "metadata": {},
     "output_type": "execute_result"
    }
   ],
   "source": [
    "#identity matrix\n",
    "np.identity(3)"
   ]
  },
  {
   "cell_type": "code",
   "execution_count": 27,
   "id": "36117e77",
   "metadata": {},
   "outputs": [
    {
     "data": {
      "text/plain": [
       "array([[1, 2, 3],\n",
       "       [1, 2, 3]])"
      ]
     },
     "execution_count": 27,
     "metadata": {},
     "output_type": "execute_result"
    }
   ],
   "source": [
    "#stacking using repeation\n",
    "arr=np.array([[1,2,3]])\n",
    "a1=np.repeat(arr,2,axis=0)#axis=0 is for column wise axis=1 is for row wise\n",
    "a1"
   ]
  },
  {
   "cell_type": "markdown",
   "id": "07d57096",
   "metadata": {},
   "source": [
    "## mathematics"
   ]
  },
  {
   "cell_type": "code",
   "execution_count": 28,
   "id": "f68cd740",
   "metadata": {},
   "outputs": [
    {
     "data": {
      "text/plain": [
       "array([1, 2, 3, 4])"
      ]
     },
     "execution_count": 28,
     "metadata": {},
     "output_type": "execute_result"
    }
   ],
   "source": [
    "a=np.array([1,2,3,4])\n",
    "a"
   ]
  },
  {
   "cell_type": "code",
   "execution_count": 29,
   "id": "45234c67",
   "metadata": {},
   "outputs": [
    {
     "data": {
      "text/plain": [
       "array([6, 7, 8, 9])"
      ]
     },
     "execution_count": 29,
     "metadata": {},
     "output_type": "execute_result"
    }
   ],
   "source": [
    "a+5"
   ]
  },
  {
   "cell_type": "code",
   "execution_count": 30,
   "id": "bd85d3c2",
   "metadata": {},
   "outputs": [
    {
     "data": {
      "text/plain": [
       "array([-4, -3, -2, -1])"
      ]
     },
     "execution_count": 30,
     "metadata": {},
     "output_type": "execute_result"
    }
   ],
   "source": [
    "a-5"
   ]
  },
  {
   "cell_type": "code",
   "execution_count": 31,
   "id": "d4e2d67f",
   "metadata": {},
   "outputs": [
    {
     "data": {
      "text/plain": [
       "array([ 3,  6,  9, 12])"
      ]
     },
     "execution_count": 31,
     "metadata": {},
     "output_type": "execute_result"
    }
   ],
   "source": [
    "a*3"
   ]
  },
  {
   "cell_type": "code",
   "execution_count": 32,
   "id": "265c42a8",
   "metadata": {},
   "outputs": [
    {
     "data": {
      "text/plain": [
       "array([0.5, 1. , 1.5, 2. ])"
      ]
     },
     "execution_count": 32,
     "metadata": {},
     "output_type": "execute_result"
    }
   ],
   "source": [
    "a/2"
   ]
  },
  {
   "cell_type": "code",
   "execution_count": 33,
   "id": "24f3debe",
   "metadata": {},
   "outputs": [
    {
     "data": {
      "text/plain": [
       "array([0, 1, 1, 2], dtype=int32)"
      ]
     },
     "execution_count": 33,
     "metadata": {},
     "output_type": "execute_result"
    }
   ],
   "source": [
    "a//2 #use to get int output"
   ]
  },
  {
   "cell_type": "code",
   "execution_count": 34,
   "id": "90af5d39",
   "metadata": {},
   "outputs": [
    {
     "data": {
      "text/plain": [
       "array([5, 6, 7, 8])"
      ]
     },
     "execution_count": 34,
     "metadata": {},
     "output_type": "execute_result"
    }
   ],
   "source": [
    "b=np.array([5,6,7,8])\n",
    "b"
   ]
  },
  {
   "cell_type": "code",
   "execution_count": 35,
   "id": "3f2b161b",
   "metadata": {},
   "outputs": [
    {
     "data": {
      "text/plain": [
       "array([ 6,  8, 10, 12])"
      ]
     },
     "execution_count": 35,
     "metadata": {},
     "output_type": "execute_result"
    }
   ],
   "source": [
    "a+b"
   ]
  },
  {
   "cell_type": "code",
   "execution_count": 36,
   "id": "b76439ef",
   "metadata": {},
   "outputs": [
    {
     "data": {
      "text/plain": [
       "array([ 1,  4,  9, 16], dtype=int32)"
      ]
     },
     "execution_count": 36,
     "metadata": {},
     "output_type": "execute_result"
    }
   ],
   "source": [
    "a**2"
   ]
  },
  {
   "cell_type": "code",
   "execution_count": 37,
   "id": "362a0366",
   "metadata": {},
   "outputs": [
    {
     "data": {
      "text/plain": [
       "array([ 0.84147098,  0.90929743,  0.14112001, -0.7568025 ])"
      ]
     },
     "execution_count": 37,
     "metadata": {},
     "output_type": "execute_result"
    }
   ],
   "source": [
    "np.sin(a)"
   ]
  },
  {
   "cell_type": "code",
   "execution_count": 38,
   "id": "d67e8a2f",
   "metadata": {},
   "outputs": [
    {
     "data": {
      "text/plain": [
       "array([ 0.54030231, -0.41614684, -0.9899925 , -0.65364362])"
      ]
     },
     "execution_count": 38,
     "metadata": {},
     "output_type": "execute_result"
    }
   ],
   "source": [
    "np.cos(a)"
   ]
  },
  {
   "cell_type": "markdown",
   "id": "aec94c28",
   "metadata": {},
   "source": [
    "## linear algebra"
   ]
  },
  {
   "cell_type": "code",
   "execution_count": 39,
   "id": "42770efe",
   "metadata": {},
   "outputs": [
    {
     "name": "stdout",
     "output_type": "stream",
     "text": [
      "[[5 5 5 5]\n",
      " [5 5 5 5]\n",
      " [5 5 5 5]]\n",
      "[[7 7 7 7 7]\n",
      " [7 7 7 7 7]\n",
      " [7 7 7 7 7]\n",
      " [7 7 7 7 7]]\n"
     ]
    }
   ],
   "source": [
    "a=np.full((3,4),5)\n",
    "b=np.full((4,5),7)\n",
    "print(a)\n",
    "print(b)"
   ]
  },
  {
   "cell_type": "code",
   "execution_count": 40,
   "id": "91bd7577",
   "metadata": {},
   "outputs": [
    {
     "data": {
      "text/plain": [
       "array([[140, 140, 140, 140, 140],\n",
       "       [140, 140, 140, 140, 140],\n",
       "       [140, 140, 140, 140, 140]])"
      ]
     },
     "execution_count": 40,
     "metadata": {},
     "output_type": "execute_result"
    }
   ],
   "source": [
    "#matrix multiplication\n",
    "np.matmul(a,b)"
   ]
  },
  {
   "cell_type": "code",
   "execution_count": 41,
   "id": "e80de087",
   "metadata": {},
   "outputs": [
    {
     "data": {
      "text/plain": [
       "1.0"
      ]
     },
     "execution_count": 41,
     "metadata": {},
     "output_type": "execute_result"
    }
   ],
   "source": [
    "#determinant\n",
    "a=np.identity(3)\n",
    "np.linalg.det(a)"
   ]
  },
  {
   "cell_type": "markdown",
   "id": "d702e9d9",
   "metadata": {},
   "source": [
    "## statistics"
   ]
  },
  {
   "cell_type": "code",
   "execution_count": 42,
   "id": "f77538b7",
   "metadata": {},
   "outputs": [
    {
     "data": {
      "text/plain": [
       "array([[1, 2, 3],\n",
       "       [4, 5, 6]])"
      ]
     },
     "execution_count": 42,
     "metadata": {},
     "output_type": "execute_result"
    }
   ],
   "source": [
    "s=np.array([[1,2,3],[4,5,6]])\n",
    "s"
   ]
  },
  {
   "cell_type": "code",
   "execution_count": 43,
   "id": "788fe967",
   "metadata": {},
   "outputs": [
    {
     "data": {
      "text/plain": [
       "array([1, 4])"
      ]
     },
     "execution_count": 43,
     "metadata": {},
     "output_type": "execute_result"
    }
   ],
   "source": [
    "#to find minimum \n",
    "np.min(s,axis=1)#from a particular row or column"
   ]
  },
  {
   "cell_type": "code",
   "execution_count": 44,
   "id": "f009596a",
   "metadata": {},
   "outputs": [
    {
     "name": "stdout",
     "output_type": "stream",
     "text": [
      "6\n",
      "[4 5 6]\n"
     ]
    }
   ],
   "source": [
    "# to find maximun\n",
    "print(np.max(s))#from whole matrix\n",
    "print(np.max(s,axis=0))"
   ]
  },
  {
   "cell_type": "code",
   "execution_count": 45,
   "id": "bbdd0475",
   "metadata": {},
   "outputs": [
    {
     "name": "stdout",
     "output_type": "stream",
     "text": [
      "21\n",
      "[5 7 9]\n"
     ]
    }
   ],
   "source": [
    "#to find sum \n",
    "print(np.sum(s))\n",
    "print(np.sum(s,axis=0))"
   ]
  },
  {
   "cell_type": "markdown",
   "id": "57c4dfef",
   "metadata": {},
   "source": [
    "## reorganizing array"
   ]
  },
  {
   "cell_type": "code",
   "execution_count": 46,
   "id": "26c180a5",
   "metadata": {},
   "outputs": [
    {
     "data": {
      "text/plain": [
       "array([[3, 5, 7, 1, 3, 4],\n",
       "       [4, 5, 3, 6, 5, 9]])"
      ]
     },
     "execution_count": 46,
     "metadata": {},
     "output_type": "execute_result"
    }
   ],
   "source": [
    "b1=np.array([[3,5,7,1,3,4],[4,5,3,6,5,9]])\n",
    "b1"
   ]
  },
  {
   "cell_type": "code",
   "execution_count": 47,
   "id": "e302a2fa",
   "metadata": {},
   "outputs": [
    {
     "data": {
      "text/plain": [
       "array([[3, 5],\n",
       "       [7, 1],\n",
       "       [3, 4],\n",
       "       [4, 5],\n",
       "       [3, 6],\n",
       "       [5, 9]])"
      ]
     },
     "execution_count": 47,
     "metadata": {},
     "output_type": "execute_result"
    }
   ],
   "source": [
    "#to reshape the matrix \n",
    "a1=b1.reshape((6,2))\n",
    "a1"
   ]
  },
  {
   "cell_type": "code",
   "execution_count": 48,
   "id": "0efd315c",
   "metadata": {},
   "outputs": [
    {
     "data": {
      "text/plain": [
       "array([[2, 3, 4],\n",
       "       [5, 6, 7]])"
      ]
     },
     "execution_count": 48,
     "metadata": {},
     "output_type": "execute_result"
    }
   ],
   "source": [
    "#vertical stacking\n",
    "v1=np.array([2,3,4])\n",
    "v2=np.array([5,6,7])\n",
    "np.vstack([v1,v2])"
   ]
  },
  {
   "cell_type": "code",
   "execution_count": 49,
   "id": "0dbec546",
   "metadata": {},
   "outputs": [
    {
     "data": {
      "text/plain": [
       "array([2, 3, 4, 5, 6, 7])"
      ]
     },
     "execution_count": 49,
     "metadata": {},
     "output_type": "execute_result"
    }
   ],
   "source": [
    "#horizontal stacking\n",
    "np.hstack([v1,v2])"
   ]
  },
  {
   "cell_type": "code",
   "execution_count": 50,
   "id": "8b4eb833",
   "metadata": {},
   "outputs": [
    {
     "data": {
      "text/plain": [
       "array([[nan,  2., nan],\n",
       "       [nan,  2., nan]])"
      ]
     },
     "execution_count": 50,
     "metadata": {},
     "output_type": "execute_result"
    }
   ],
   "source": [
    "#import data from a file\n",
    "data=np.genfromtxt(\"testing.txt\",delimiter=\",\")\n",
    "data"
   ]
  },
  {
   "cell_type": "markdown",
   "id": "e2aaef89",
   "metadata": {},
   "source": [
    "## boolean masking and advanced indexing"
   ]
  },
  {
   "cell_type": "code",
   "execution_count": 51,
   "id": "a6fc3cdb",
   "metadata": {},
   "outputs": [
    {
     "data": {
      "text/plain": [
       "array([[False, False, False],\n",
       "       [False, False, False]])"
      ]
     },
     "execution_count": 51,
     "metadata": {},
     "output_type": "execute_result"
    }
   ],
   "source": [
    "data>15"
   ]
  },
  {
   "cell_type": "code",
   "execution_count": 52,
   "id": "2f4985f7",
   "metadata": {},
   "outputs": [
    {
     "data": {
      "text/plain": [
       "array([3, 5, 6])"
      ]
     },
     "execution_count": 52,
     "metadata": {},
     "output_type": "execute_result"
    }
   ],
   "source": [
    "a=np.array([1,2,3,4,5,6,7])\n",
    "a[[2,4,5]]#to access specific element"
   ]
  },
  {
   "cell_type": "code",
   "execution_count": 53,
   "id": "45379ab9",
   "metadata": {},
   "outputs": [
    {
     "name": "stdout",
     "output_type": "stream",
     "text": [
      "True\n"
     ]
    }
   ],
   "source": [
    "#to check condition for whole array\n",
    "print(np.any(a>2))#to if any element in a is greater than 2"
   ]
  },
  {
   "cell_type": "markdown",
   "id": "470baf3d",
   "metadata": {},
   "source": [
    "# python\n"
   ]
  },
  {
   "cell_type": "code",
   "execution_count": 54,
   "id": "649c0cfc",
   "metadata": {},
   "outputs": [],
   "source": [
    "#data types\n",
    "int =1 #integer\n",
    "float =1.2 #float\n",
    "str =\"hello\" #string\n",
    "bool =True #boolean"
   ]
  },
  {
   "cell_type": "code",
   "execution_count": 55,
   "id": "6eccfd2b",
   "metadata": {},
   "outputs": [
    {
     "name": "stdout",
     "output_type": "stream",
     "text": [
      "my age is 1500 year\n",
      "my age is 1500 year\n",
      "my age is 1500 year\n"
     ]
    }
   ],
   "source": [
    "#variable\n",
    "age=\"1500\"#varibale is use to store values\n",
    "print(\"my age is \"+ age + \" year\")\n",
    "print(\"my age is\",age,\"year\") \n",
    "print(f\"my age is {age} year\")"
   ]
  },
  {
   "cell_type": "code",
   "execution_count": 56,
   "id": "8469ecb5",
   "metadata": {},
   "outputs": [
    {
     "name": "stdout",
     "output_type": "stream",
     "text": [
      "my\n",
      "is thor\n",
      "to print \\\n",
      "thor is hero\n",
      "THOR IS HERO\n",
      "True\n",
      "False\n",
      "12\n",
      "h\n",
      "th\n",
      "to sh\n",
      "5\n",
      "thOr is herO\n"
     ]
    }
   ],
   "source": [
    "#string\n",
    "print(\"my\\nis thor\")#\\n is used for print in next line\n",
    "print(\"to print \\\\\")#\\\\ is used for print \\\n",
    "name=\"thor is hero\"\n",
    "print(name.lower())# to convert string in lower case\n",
    "print(name.upper())#to convert string in lower case\n",
    "print(name.islower())#islower is used to check whether all the character are in lower case\n",
    "print(name.isupper())#islower is used to check whether all the character are in upper case\n",
    "print(len(name))#to calculate the lenght of the string including <space>\n",
    "print(name[1])#index works same as list in string\n",
    "print(name[:2])#it will take all the element before 2\n",
    "print(name[0:9:2])#use to skip 1 char\n",
    "print(name.index(\"i\"))#to find the index of the character/word in a string which occured 1st\n",
    "print(name.replace(\"o\",\"O\"))#replace all character/word in a string"
   ]
  },
  {
   "cell_type": "code",
   "execution_count": 57,
   "id": "160f8b7c",
   "metadata": {},
   "outputs": [
    {
     "name": "stdout",
     "output_type": "stream",
     "text": [
      "14\n",
      "59\n",
      "5.375\n",
      "1\n",
      "5\n",
      "7\n",
      "2\n",
      "6\n"
     ]
    }
   ],
   "source": [
    "#number\n",
    "print(5+9)#addition\n",
    "print(\"5\"+\"9\")#here 5 and 9 are treated as string + concatenate\n",
    "print(3/8+5)#it uses BODMAS\n",
    "print(5%2)#used for reminder\n",
    "print(abs(-5))#to returns absolute\n",
    "print(max(2,4,5,7,2))#to get maximum value\n",
    "print(min(2,4,5,7,2))#to get minimum value\n",
    "print(round(5.6))#to round off values"
   ]
  },
  {
   "cell_type": "code",
   "execution_count": 58,
   "id": "98d0151d",
   "metadata": {},
   "outputs": [
    {
     "name": "stdout",
     "output_type": "stream",
     "text": [
      "enter anything hi there\n",
      "hi there\n"
     ]
    }
   ],
   "source": [
    "#to take input of user\n",
    "a=input(\"enter anything \")#default format of input is string\"\n",
    "print(a)"
   ]
  },
  {
   "cell_type": "code",
   "execution_count": 59,
   "id": "4db692d3",
   "metadata": {},
   "outputs": [
    {
     "name": "stdout",
     "output_type": "stream",
     "text": [
      "['hi', 'hello', 'a', 'b']\n",
      "[1, 'a', 3, 5, 6]\n",
      "hello\n",
      "e\n",
      "b\n",
      "there\n",
      "['hi', 'there', 'a', 'b', 1, 'a', 3, 5, 6]\n",
      "[1, 'a', 3, 5, 6, 'after']\n",
      "[1, 'before', 'a', 3, 5, 6, 'after']\n",
      "[1, 'before', 'a', 3, 5, 6]\n",
      "[1, 'before', 'a', 3, 5]\n",
      "1\n",
      "1\n",
      "[1, 2, 4, 4, 5, 6, 8, 9]\n",
      "[9, 8, 6, 5, 4, 4, 2, 1]\n",
      "[9, 8, 6, 5, 4, 4, 2, 1]\n"
     ]
    }
   ],
   "source": [
    "#list\n",
    "a=[\"hi\",\"hello\",\"a\",\"b\"]\n",
    "print(a)\n",
    "b=[1,\"a\",3,5,6]\n",
    "print(b)\n",
    "print(a[1])#indexing works same as string\n",
    "print(a[1][1])\n",
    "print(a[-1])\n",
    "a[1]=\"there\"\n",
    "print(a[1])#update list using indexing\n",
    "a.extend(b)#concatenate of list(here all the element will concatenated in a)\n",
    "print(a)\n",
    "b.append(\"after\")#add the element in last \n",
    "print(b)\n",
    "b.insert(1,\"before\")#to add a element at a particular position\n",
    "print(b)\n",
    "b.remove(\"after\")#to remove the given element from list\n",
    "print(b)\n",
    "b.pop()#to remove the last element from the list\n",
    "print(b)\n",
    "print(b.index(\"before\"))#to get the indexx of specific element\n",
    "print(b.count(1))#to count the occurance of the element in the list\n",
    "c=[1,2,4,5,6,4,8,9]\n",
    "c.sort()#to sort the list in ascending order\n",
    "print(c)\n",
    "c.sort(reverse=True)#to sort the list in descending order\n",
    "print(c)\n",
    "d=c.copy()\n",
    "print(d)\n"
   ]
  },
  {
   "cell_type": "code",
   "execution_count": 60,
   "id": "0d6c3f1a",
   "metadata": {},
   "outputs": [
    {
     "name": "stdout",
     "output_type": "stream",
     "text": [
      "(1, 2)\n"
     ]
    }
   ],
   "source": [
    "#tuple(element can't be updated or removed)\n",
    "a=(1,2)\n",
    "print(a)"
   ]
  },
  {
   "cell_type": "code",
   "execution_count": 61,
   "id": "dba81ec5",
   "metadata": {},
   "outputs": [
    {
     "name": "stdout",
     "output_type": "stream",
     "text": [
      "{'a': [1, 2, 3], 'b': [4, 5, 6]}\n",
      "[1, 2, 3]\n",
      "1\n"
     ]
    }
   ],
   "source": [
    "#dictionaries(key value pair)\n",
    "dic1={\"a\":[1,2,3],\n",
    "      \"b\":[4,5,6]}\n",
    "print(dic1)\n",
    "print(dic1[\"a\"])#key must be provided,indexing work same as string\n",
    "print(dic1[\"a\"][0])"
   ]
  },
  {
   "cell_type": "code",
   "execution_count": 62,
   "id": "1dbc7c71",
   "metadata": {},
   "outputs": [
    {
     "name": "stdout",
     "output_type": "stream",
     "text": [
      "hello\n",
      "3\n"
     ]
    }
   ],
   "source": [
    "#functions\n",
    "def new_fun():#indentation is important in function\n",
    "    print(\"hello\")\n",
    "new_fun()#function is been called\n",
    "def new_fun(a,b):\n",
    "    c=a+b\n",
    "    print(c)\n",
    "new_fun(1,2)"
   ]
  },
  {
   "cell_type": "code",
   "execution_count": 63,
   "id": "d5ab185e",
   "metadata": {},
   "outputs": [
    {
     "data": {
      "text/plain": [
       "8"
      ]
     },
     "execution_count": 63,
     "metadata": {},
     "output_type": "execute_result"
    }
   ],
   "source": [
    "#return statement(it is consider as last statement of the function)\n",
    "def cube(a):\n",
    "    return a*a*a#when we use return statement we don't need to print it\n",
    "cube(2)"
   ]
  },
  {
   "cell_type": "code",
   "execution_count": 64,
   "id": "05def3f8",
   "metadata": {},
   "outputs": [
    {
     "data": {
      "text/plain": [
       "'\\n= is used for assign of operator\\n== for comparison\\n>= smaller than equal to\\n<= greater than equal to\\n!= not equal to\\nand/& for and condition\\n|/or for or condition\\n'"
      ]
     },
     "execution_count": 64,
     "metadata": {},
     "output_type": "execute_result"
    }
   ],
   "source": [
    "#operators\n",
    "\"\"\"\n",
    "= is used for assign of operator\n",
    "== for comparison\n",
    ">= smaller than equal to\n",
    "<= greater than equal to\n",
    "!= not equal to\n",
    "and/& for and condition\n",
    "|/or for or condition\n",
    "\"\"\""
   ]
  },
  {
   "cell_type": "code",
   "execution_count": 65,
   "id": "0c647ae1",
   "metadata": {},
   "outputs": [
    {
     "name": "stdout",
     "output_type": "stream",
     "text": [
      "c is maximum\n"
     ]
    }
   ],
   "source": [
    "#if statement\n",
    "def max1(a,b,c):\n",
    "    if a>b and a>c:\n",
    "        print(\"a is maximum\")\n",
    "    elif b>a and b>c:\n",
    "        print(\"b is maximum\")\n",
    "    else:\n",
    "        print(\"c is maximum\")\n",
    "max1(4,5,6)"
   ]
  },
  {
   "cell_type": "code",
   "execution_count": 66,
   "id": "7f15fcc8",
   "metadata": {},
   "outputs": [
    {
     "name": "stdout",
     "output_type": "stream",
     "text": [
      "0\n",
      "1\n",
      "2\n",
      "3\n",
      "4\n",
      "5\n",
      "6\n",
      "7\n",
      "8\n",
      "9\n",
      "10\n"
     ]
    }
   ],
   "source": [
    "#while loop\n",
    "i=0\n",
    "while i<=10:\n",
    "    print(i)\n",
    "    i+=1"
   ]
  },
  {
   "cell_type": "code",
   "execution_count": 67,
   "id": "7a3871e0",
   "metadata": {},
   "outputs": [
    {
     "name": "stdout",
     "output_type": "stream",
     "text": [
      "f\n",
      "o\n",
      "r\n",
      "1\n",
      "2\n",
      "3\n",
      "4\n",
      "5\n",
      "6\n",
      "7\n",
      "8\n",
      "9\n",
      "0\n",
      "1\n",
      "2\n"
     ]
    }
   ],
   "source": [
    "#for loop\n",
    "name=\"for\"\n",
    "for i in name:\n",
    "    print(i)\n",
    "for i in range(1,10):\n",
    "    print(i)\n",
    "for i in range(len(name)):\n",
    "    print(i)"
   ]
  },
  {
   "cell_type": "code",
   "execution_count": 68,
   "id": "9e5e03dd",
   "metadata": {},
   "outputs": [
    {
     "name": "stdout",
     "output_type": "stream",
     "text": [
      "9\n"
     ]
    }
   ],
   "source": [
    "#exponent function\n",
    "def power(num,power):\n",
    "    result=1\n",
    "    for i in range(power):\n",
    "        result=result*num\n",
    "    return result\n",
    "print(power(3,2))"
   ]
  },
  {
   "cell_type": "code",
   "execution_count": 69,
   "id": "8a8f1488",
   "metadata": {},
   "outputs": [
    {
     "name": "stdout",
     "output_type": "stream",
     "text": [
      "1\n",
      "2\n",
      "3\n",
      "4\n",
      "5\n",
      "6\n",
      "7\n",
      "8\n",
      "9\n",
      "[1, 2, 3]\n",
      "1\n"
     ]
    }
   ],
   "source": [
    "#2d lists and nested loops\n",
    "number=[[1,2,3],\n",
    "       [4,5,6],\n",
    "       [7,8,9]]\n",
    "for i in number:\n",
    "    for j in i:\n",
    "        print(j)\n",
    "print(number[0])\n",
    "print(number[0][0])"
   ]
  },
  {
   "cell_type": "code",
   "execution_count": 70,
   "id": "f2815871",
   "metadata": {},
   "outputs": [
    {
     "name": "stdout",
     "output_type": "stream",
     "text": [
      "enter your number hk\n",
      "please enter valid no\n"
     ]
    }
   ],
   "source": [
    "#try and except\n",
    "try:\n",
    "    number=int(input(\"enter your number \"))\n",
    "except:\n",
    "    print(\"please enter valid no\") "
   ]
  },
  {
   "cell_type": "code",
   "execution_count": 72,
   "id": "2a74d98f",
   "metadata": {},
   "outputs": [
    {
     "name": "stdout",
     "output_type": "stream",
     "text": [
      "[1,2,3]\n",
      "{1,2,3}\n",
      "\n"
     ]
    }
   ],
   "source": [
    "#reading file\n",
    "file=open(\"testing.txt\",\"r\")#reading<\"r\">/append<\"a\">/write<\"w\"> in file\n",
    "# file.write(\"hello\")#used to write in file\n",
    "print(file.read())#to read the file\n",
    "print(file.readline())#to read first line \n",
    "file.close()#to close file"
   ]
  },
  {
   "cell_type": "code",
   "execution_count": null,
   "id": "8d7f5b15",
   "metadata": {},
   "outputs": [],
   "source": []
  }
 ],
 "metadata": {
  "kernelspec": {
   "display_name": "Python 3 (ipykernel)",
   "language": "python",
   "name": "python3"
  },
  "language_info": {
   "codemirror_mode": {
    "name": "ipython",
    "version": 3
   },
   "file_extension": ".py",
   "mimetype": "text/x-python",
   "name": "python",
   "nbconvert_exporter": "python",
   "pygments_lexer": "ipython3",
   "version": "3.9.13"
  }
 },
 "nbformat": 4,
 "nbformat_minor": 5
}
